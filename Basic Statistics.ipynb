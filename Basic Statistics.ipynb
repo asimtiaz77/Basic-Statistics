{
 "cells": [
  {
   "cell_type": "code",
   "execution_count": 1,
   "id": "95b9fd54",
   "metadata": {},
   "outputs": [
    {
     "name": "stdout",
     "output_type": "stream",
     "text": [
      "-- Patient Data Statistics --\n",
      "AverageAge: 44.4\n",
      "MalePatients: 2\n",
      "FemalePatients: 3\n",
      "HighestBloodPressure: 140/90\n",
      "LowestBloodPressure: 120/80\n",
      "AverageTemperature: 36.88\n"
     ]
    }
   ],
   "source": [
    "\n",
    "import re\n",
    "\n",
    "\n",
    "ages = []\n",
    "genders = []\n",
    "bps = []\n",
    "temps = []\n",
    "\n",
    "with open('Week13Assignment.txt', 'r') as f:\n",
    "    next(f)  # Skip the header line\n",
    "    for line in f:\n",
    "        data = line.split(',')\n",
    "        ages.append(int(data[1]))\n",
    "        genders.append(data[2].strip())\n",
    "        bps.append(data[3].strip())\n",
    "        temps.append(float(data[4]))\n",
    "\n",
    "\n",
    "average_age = sum(ages) / len(ages)\n",
    "male_patients = genders.count('Male')\n",
    "female_patients = genders.count('Female')\n",
    "highest_bp = max(bps, key=lambda x: list(map(int, re.findall(r'\\d+', x))))\n",
    "lowest_bp = min(bps, key=lambda x: list(map(int, re.findall(r'\\d+', x))))\n",
    "average_temp = sum(temps) / len(temps)\n",
    "\n",
    "\n",
    "print(\"-- Patient Data Statistics --\")\n",
    "print(\"AverageAge:\", average_age)\n",
    "print(\"MalePatients:\", male_patients)\n",
    "print(\"FemalePatients:\", female_patients)\n",
    "print(\"HighestBloodPressure:\", highest_bp)\n",
    "print(\"LowestBloodPressure:\", lowest_bp)\n",
    "print(\"AverageTemperature:\", average_temp)"
   ]
  },
  {
   "cell_type": "code",
   "execution_count": null,
   "id": "99f074d2",
   "metadata": {},
   "outputs": [],
   "source": []
  }
 ],
 "metadata": {
  "kernelspec": {
   "display_name": "Python 3 (ipykernel)",
   "language": "python",
   "name": "python3"
  },
  "language_info": {
   "codemirror_mode": {
    "name": "ipython",
    "version": 3
   },
   "file_extension": ".py",
   "mimetype": "text/x-python",
   "name": "python",
   "nbconvert_exporter": "python",
   "pygments_lexer": "ipython3",
   "version": "3.11.4"
  }
 },
 "nbformat": 4,
 "nbformat_minor": 5
}
